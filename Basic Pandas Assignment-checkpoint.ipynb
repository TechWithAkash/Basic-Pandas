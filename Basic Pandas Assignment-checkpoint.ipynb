{
 "cells": [
  {
   "cell_type": "markdown",
   "id": "73367908",
   "metadata": {},
   "source": [
    "Q1. Create a Pandas Series that contains the following data: 4, 8, 15, 16, 23, and 42. Then, print the series."
   ]
  },
  {
   "cell_type": "code",
   "execution_count": 19,
   "id": "3f93865b",
   "metadata": {},
   "outputs": [
    {
     "name": "stdout",
     "output_type": "stream",
     "text": [
      "0     4\n",
      "1     8\n",
      "2    15\n",
      "3    16\n",
      "4    23\n",
      "5    42\n",
      "dtype: int64\n"
     ]
    }
   ],
   "source": [
    "import pandas as pd\n",
    "df =[4,8,15,16,23,42]\n",
    "series =pd.Series(df)\n",
    "print(series)"
   ]
  },
  {
   "cell_type": "code",
   "execution_count": null,
   "id": "611806a9",
   "metadata": {},
   "outputs": [],
   "source": []
  },
  {
   "cell_type": "markdown",
   "id": "9b1d9730",
   "metadata": {},
   "source": [
    "Q2. Create a variable of list type containing 10 elements in it, and apply pandas.Series function on the\n",
    "variable print it."
   ]
  },
  {
   "cell_type": "code",
   "execution_count": 23,
   "id": "fec26c41",
   "metadata": {},
   "outputs": [
    {
     "name": "stdout",
     "output_type": "stream",
     "text": [
      "0    23\n",
      "1    34\n",
      "2    45\n",
      "3    56\n",
      "4    54\n",
      "5    43\n",
      "6    32\n",
      "7    34\n",
      "8    45\n",
      "9    56\n",
      "dtype: int64\n"
     ]
    }
   ],
   "source": [
    "list = [23,34,45,56,54,43,32,34,45,56]\n",
    "series =pd.Series(list)\n",
    "print(series)"
   ]
  },
  {
   "cell_type": "code",
   "execution_count": null,
   "id": "b47136f1",
   "metadata": {},
   "outputs": [],
   "source": []
  },
  {
   "cell_type": "code",
   "execution_count": 26,
   "id": "feaea533",
   "metadata": {},
   "outputs": [
    {
     "name": "stdout",
     "output_type": "stream",
     "text": [
      "    Name  Age  Gender\n",
      "0  Alice   25  Female\n",
      "1    BOb   30    Male\n",
      "2  Clair   27  Female\n"
     ]
    }
   ],
   "source": [
    "df2 ={\n",
    "    \"Name\":[\"Alice\" ,\"BOb\",\"Clair\"],\n",
    "    \"Age\":[25,30,27],\n",
    "    \"Gender\":[\"Female\", \"Male\", \"Female\"]\n",
    "}\n",
    "df = pd.DataFrame(df2)\n",
    "\n",
    "print(df) "
   ]
  },
  {
   "cell_type": "code",
   "execution_count": null,
   "id": "0c32bffc",
   "metadata": {},
   "outputs": [],
   "source": []
  },
  {
   "cell_type": "markdown",
   "id": "630415c0",
   "metadata": {},
   "source": [
    "Q4. What is ‘DataFrame’ in pandas and how is it different from pandas.series? Explain with an example."
   ]
  },
  {
   "cell_type": "markdown",
   "id": "3604ca03",
   "metadata": {},
   "source": [
    "In Pandas, a DataFrame is a two-dimensional tabular data structure that can store and manipulate data. It is similar to a table or a spreadsheet, where data is organized in rows and columns. The DataFrame provides a powerful and flexible way to work with structured data.\n",
    "\n",
    "A DataFrame can be thought of as a collection of Series objects, where each column represents a Series. Each column can have a different data type (e.g., integer, float, string) but within a column, all values must have the same data type. This structure allows for efficient data manipulation and analysis.\n",
    "\n",
    "Here's an example to illustrate the difference between a DataFrame and a Series:"
   ]
  },
  {
   "cell_type": "code",
   "execution_count": 27,
   "id": "3e368d14",
   "metadata": {},
   "outputs": [
    {
     "name": "stdout",
     "output_type": "stream",
     "text": [
      "Series:\n",
      "0    1\n",
      "1    2\n",
      "2    3\n",
      "3    4\n",
      "4    5\n",
      "dtype: int64\n",
      "\n",
      "DataFrame:\n",
      "      Name  Age      City\n",
      "0     John   25  New York\n",
      "1    Emily   28    London\n",
      "2  Charlie   32     Paris\n",
      "3    Sarah   29    Sydney\n",
      "4  Michael   35     Tokyo\n"
     ]
    }
   ],
   "source": [
    "import pandas as pd\n",
    "\n",
    "# Creating a Series\n",
    "series = pd.Series([1, 2, 3, 4, 5])\n",
    "\n",
    "# Creating a DataFrame\n",
    "data = {'Name': ['John', 'Emily', 'Charlie', 'Sarah', 'Michael'],\n",
    "        'Age': [25, 28, 32, 29, 35],\n",
    "        'City': ['New York', 'London', 'Paris', 'Sydney', 'Tokyo']}\n",
    "df = pd.DataFrame(data)\n",
    "\n",
    "print(\"Series:\")\n",
    "print(series)\n",
    "print(\"\\nDataFrame:\")\n",
    "print(df)\n"
   ]
  },
  {
   "cell_type": "code",
   "execution_count": null,
   "id": "d40b9765",
   "metadata": {},
   "outputs": [],
   "source": []
  },
  {
   "cell_type": "markdown",
   "id": "3c007b65",
   "metadata": {},
   "source": [
    "Q5. What are some common functions you can use to manipulate data in a Pandas DataFrame? Can\n",
    "you give an example of when you might use one of these functions?"
   ]
  },
  {
   "cell_type": "markdown",
   "id": "b0465d85",
   "metadata": {},
   "source": [
    "Here are some common functions that you can use:\n",
    "\n",
    "head() and tail(): These functions allow you to view the top or bottom rows of a DataFrame, respectively. They are useful for quickly inspecting the structure and content of the DataFrame.\n",
    "\n",
    "    \n",
    "columns and index: These attributes allow you to access the column names and index labels, respectively.\n",
    "    \n",
    "drop(): This function is used to remove specified rows or columns from the DataFrame. It helps in eliminating unnecessary or redundant data.\n",
    "        \n",
    "sort_values(): This function is used to sort the DataFrame based on one or more columns. It allows you to order the data based on a particular criterion.\n",
    "    \n",
    "apply(): This function is used to apply a function to each element or row/column of the DataFrame. It enables custom transformations or computations on the data.\n",
    "\n",
    "describe(): This function generates descriptive statistics of the DataFrame, such as count, mean, standard deviation, minimum, maximum, and quartile values. It gives a statistical summary of the numerical columns.\n",
    "    "
   ]
  },
  {
   "cell_type": "code",
   "execution_count": 29,
   "id": "c01f5013",
   "metadata": {},
   "outputs": [
    {
     "name": "stdout",
     "output_type": "stream",
     "text": [
      "             Age\n",
      "count   5.000000\n",
      "mean   29.800000\n",
      "std     3.834058\n",
      "min    25.000000\n",
      "25%    28.000000\n",
      "50%    29.000000\n",
      "75%    32.000000\n",
      "max    35.000000\n"
     ]
    }
   ],
   "source": [
    "import pandas as pd\n",
    "\n",
    "data = {'Name': ['John', 'Emily', 'Charlie', 'Sarah', 'Michael'],\n",
    "        'Age': [25, 28, 32, 29, 35],\n",
    "        'City': ['New York', 'London', 'Paris', 'Sydney', 'Tokyo']}\n",
    "df = pd.DataFrame(data)\n",
    "\n",
    "summary = df.describe()\n",
    "print(summary)\n"
   ]
  },
  {
   "cell_type": "code",
   "execution_count": null,
   "id": "3a4a6a65",
   "metadata": {},
   "outputs": [],
   "source": []
  },
  {
   "cell_type": "markdown",
   "id": "d980bf93",
   "metadata": {},
   "source": [
    "Q6. Which of the following is mutable in nature Series, DataFrame, Panel?"
   ]
  },
  {
   "cell_type": "markdown",
   "id": "b7ab022d",
   "metadata": {},
   "source": [
    "In Pandas, a DataFrame is mutable, which means it can be modified after creation. You can change values in existing columns, add or remove columns, and perform various operations to alter the structure and content of the DataFrame.\n",
    "\n",
    "On the other hand, both Series and Panel objects in Pandas are immutable. Once created, their values cannot be modified directly. If you want to update a Series or Panel, you would need to create a new object with the desired changes.\n",
    "\n",
    "To summarize:\n",
    "\n",
    "Series: Immutable (values cannot be modified directly)\n",
    "\n",
    "DataFrame: Mutable (values can be modified)\n",
    "\n",
    "Panel: Immutable (values cannot be modified directly)"
   ]
  },
  {
   "cell_type": "code",
   "execution_count": null,
   "id": "8074fe63",
   "metadata": {},
   "outputs": [],
   "source": []
  },
  {
   "cell_type": "markdown",
   "id": "21b4bfb0",
   "metadata": {},
   "source": [
    "Q7. Create a DataFrame using multiple Series. Explain with an example."
   ]
  },
  {
   "cell_type": "code",
   "execution_count": 35,
   "id": "c86ac071",
   "metadata": {},
   "outputs": [
    {
     "name": "stdout",
     "output_type": "stream",
     "text": [
      "               Name  Salary     Designation\n",
      "0          Alak Sir   95000        Chairman\n",
      "1         Sunny Sir   28000  Data Scientist\n",
      "2        Hitesh sir   32000             CTO\n",
      "3     Sudhanshu Sir   29000             CEO\n",
      "4  Vishwa Mohan sir   35000             CIO\n"
     ]
    }
   ],
   "source": [
    "import pandas as pd\n",
    "\n",
    "names = pd.Series(['Alak Sir', 'Sunny Sir', 'Hitesh sir', 'Sudhanshu Sir', 'Vishwa Mohan sir'])\n",
    "salary = pd.Series([95000, 28000, 32000, 29000, 35000])\n",
    "desgination = pd.Series(['Chairman', 'Data Scientist', 'CTO', 'CEO', 'CIO'])\n",
    "\n",
    "data = {'Name': names, 'Salary': salary, 'Designation': desgination}\n",
    "df = pd.DataFrame(data)\n",
    "\n",
    "print(df)\n"
   ]
  },
  {
   "cell_type": "code",
   "execution_count": null,
   "id": "9609f024",
   "metadata": {},
   "outputs": [],
   "source": []
  }
 ],
 "metadata": {
  "kernelspec": {
   "display_name": "Python 3 (ipykernel)",
   "language": "python",
   "name": "python3"
  },
  "language_info": {
   "codemirror_mode": {
    "name": "ipython",
    "version": 3
   },
   "file_extension": ".py",
   "mimetype": "text/x-python",
   "name": "python",
   "nbconvert_exporter": "python",
   "pygments_lexer": "ipython3",
   "version": "3.10.9"
  }
 },
 "nbformat": 4,
 "nbformat_minor": 5
}
